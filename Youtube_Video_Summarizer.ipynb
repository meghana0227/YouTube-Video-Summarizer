{
  "nbformat": 4,
  "nbformat_minor": 0,
  "metadata": {
    "colab": {
      "provenance": [],
      "gpuType": "T4",
      "authorship_tag": "ABX9TyNDK+XNVvFuOA+Ng9djJFZz",
      "include_colab_link": true
    },
    "kernelspec": {
      "name": "python3",
      "display_name": "Python 3"
    },
    "language_info": {
      "name": "python"
    },
    "accelerator": "GPU",
    "widgets": {
      "application/vnd.jupyter.widget-state+json": {
        "7d201c8c31c14800843d33532b06e941": {
          "model_module": "@jupyter-widgets/controls",
          "model_name": "HBoxModel",
          "model_module_version": "1.5.0",
          "state": {
            "_dom_classes": [],
            "_model_module": "@jupyter-widgets/controls",
            "_model_module_version": "1.5.0",
            "_model_name": "HBoxModel",
            "_view_count": null,
            "_view_module": "@jupyter-widgets/controls",
            "_view_module_version": "1.5.0",
            "_view_name": "HBoxView",
            "box_style": "",
            "children": [
              "IPY_MODEL_5f144b56cc77444aa85835815bdf73aa",
              "IPY_MODEL_d8491b49cb81463d8d7ead0a23a5db85",
              "IPY_MODEL_06542e9d63594dcb8a1ceeecd85ba9e6"
            ],
            "layout": "IPY_MODEL_5b4b26f6a90546d484d97f961945820c"
          }
        },
        "5f144b56cc77444aa85835815bdf73aa": {
          "model_module": "@jupyter-widgets/controls",
          "model_name": "HTMLModel",
          "model_module_version": "1.5.0",
          "state": {
            "_dom_classes": [],
            "_model_module": "@jupyter-widgets/controls",
            "_model_module_version": "1.5.0",
            "_model_name": "HTMLModel",
            "_view_count": null,
            "_view_module": "@jupyter-widgets/controls",
            "_view_module_version": "1.5.0",
            "_view_name": "HTMLView",
            "description": "",
            "description_tooltip": null,
            "layout": "IPY_MODEL_4322e9727bfc472db1e1360f98906315",
            "placeholder": "​",
            "style": "IPY_MODEL_3d0d69f577cc4b3d818a2d092e5fc9f6",
            "value": "pytorch_model.bin: 100%"
          }
        },
        "d8491b49cb81463d8d7ead0a23a5db85": {
          "model_module": "@jupyter-widgets/controls",
          "model_name": "FloatProgressModel",
          "model_module_version": "1.5.0",
          "state": {
            "_dom_classes": [],
            "_model_module": "@jupyter-widgets/controls",
            "_model_module_version": "1.5.0",
            "_model_name": "FloatProgressModel",
            "_view_count": null,
            "_view_module": "@jupyter-widgets/controls",
            "_view_module_version": "1.5.0",
            "_view_name": "ProgressView",
            "bar_style": "success",
            "description": "",
            "description_tooltip": null,
            "layout": "IPY_MODEL_a7a32603775f41aea73fcad0cab5f236",
            "max": 2275329241,
            "min": 0,
            "orientation": "horizontal",
            "style": "IPY_MODEL_b7cca7f95dbb4fac8e4c591044d237b7",
            "value": 2275329241
          }
        },
        "06542e9d63594dcb8a1ceeecd85ba9e6": {
          "model_module": "@jupyter-widgets/controls",
          "model_name": "HTMLModel",
          "model_module_version": "1.5.0",
          "state": {
            "_dom_classes": [],
            "_model_module": "@jupyter-widgets/controls",
            "_model_module_version": "1.5.0",
            "_model_name": "HTMLModel",
            "_view_count": null,
            "_view_module": "@jupyter-widgets/controls",
            "_view_module_version": "1.5.0",
            "_view_name": "HTMLView",
            "description": "",
            "description_tooltip": null,
            "layout": "IPY_MODEL_8c455a7d189a4ac1b7d3ab804db9e6c6",
            "placeholder": "​",
            "style": "IPY_MODEL_2133e43311f449ee8b5281d3b0f68a4e",
            "value": " 2.28G/2.28G [00:09&lt;00:00, 215MB/s]"
          }
        },
        "5b4b26f6a90546d484d97f961945820c": {
          "model_module": "@jupyter-widgets/base",
          "model_name": "LayoutModel",
          "model_module_version": "1.2.0",
          "state": {
            "_model_module": "@jupyter-widgets/base",
            "_model_module_version": "1.2.0",
            "_model_name": "LayoutModel",
            "_view_count": null,
            "_view_module": "@jupyter-widgets/base",
            "_view_module_version": "1.2.0",
            "_view_name": "LayoutView",
            "align_content": null,
            "align_items": null,
            "align_self": null,
            "border": null,
            "bottom": null,
            "display": null,
            "flex": null,
            "flex_flow": null,
            "grid_area": null,
            "grid_auto_columns": null,
            "grid_auto_flow": null,
            "grid_auto_rows": null,
            "grid_column": null,
            "grid_gap": null,
            "grid_row": null,
            "grid_template_areas": null,
            "grid_template_columns": null,
            "grid_template_rows": null,
            "height": null,
            "justify_content": null,
            "justify_items": null,
            "left": null,
            "margin": null,
            "max_height": null,
            "max_width": null,
            "min_height": null,
            "min_width": null,
            "object_fit": null,
            "object_position": null,
            "order": null,
            "overflow": null,
            "overflow_x": null,
            "overflow_y": null,
            "padding": null,
            "right": null,
            "top": null,
            "visibility": null,
            "width": null
          }
        },
        "4322e9727bfc472db1e1360f98906315": {
          "model_module": "@jupyter-widgets/base",
          "model_name": "LayoutModel",
          "model_module_version": "1.2.0",
          "state": {
            "_model_module": "@jupyter-widgets/base",
            "_model_module_version": "1.2.0",
            "_model_name": "LayoutModel",
            "_view_count": null,
            "_view_module": "@jupyter-widgets/base",
            "_view_module_version": "1.2.0",
            "_view_name": "LayoutView",
            "align_content": null,
            "align_items": null,
            "align_self": null,
            "border": null,
            "bottom": null,
            "display": null,
            "flex": null,
            "flex_flow": null,
            "grid_area": null,
            "grid_auto_columns": null,
            "grid_auto_flow": null,
            "grid_auto_rows": null,
            "grid_column": null,
            "grid_gap": null,
            "grid_row": null,
            "grid_template_areas": null,
            "grid_template_columns": null,
            "grid_template_rows": null,
            "height": null,
            "justify_content": null,
            "justify_items": null,
            "left": null,
            "margin": null,
            "max_height": null,
            "max_width": null,
            "min_height": null,
            "min_width": null,
            "object_fit": null,
            "object_position": null,
            "order": null,
            "overflow": null,
            "overflow_x": null,
            "overflow_y": null,
            "padding": null,
            "right": null,
            "top": null,
            "visibility": null,
            "width": null
          }
        },
        "3d0d69f577cc4b3d818a2d092e5fc9f6": {
          "model_module": "@jupyter-widgets/controls",
          "model_name": "DescriptionStyleModel",
          "model_module_version": "1.5.0",
          "state": {
            "_model_module": "@jupyter-widgets/controls",
            "_model_module_version": "1.5.0",
            "_model_name": "DescriptionStyleModel",
            "_view_count": null,
            "_view_module": "@jupyter-widgets/base",
            "_view_module_version": "1.2.0",
            "_view_name": "StyleView",
            "description_width": ""
          }
        },
        "a7a32603775f41aea73fcad0cab5f236": {
          "model_module": "@jupyter-widgets/base",
          "model_name": "LayoutModel",
          "model_module_version": "1.2.0",
          "state": {
            "_model_module": "@jupyter-widgets/base",
            "_model_module_version": "1.2.0",
            "_model_name": "LayoutModel",
            "_view_count": null,
            "_view_module": "@jupyter-widgets/base",
            "_view_module_version": "1.2.0",
            "_view_name": "LayoutView",
            "align_content": null,
            "align_items": null,
            "align_self": null,
            "border": null,
            "bottom": null,
            "display": null,
            "flex": null,
            "flex_flow": null,
            "grid_area": null,
            "grid_auto_columns": null,
            "grid_auto_flow": null,
            "grid_auto_rows": null,
            "grid_column": null,
            "grid_gap": null,
            "grid_row": null,
            "grid_template_areas": null,
            "grid_template_columns": null,
            "grid_template_rows": null,
            "height": null,
            "justify_content": null,
            "justify_items": null,
            "left": null,
            "margin": null,
            "max_height": null,
            "max_width": null,
            "min_height": null,
            "min_width": null,
            "object_fit": null,
            "object_position": null,
            "order": null,
            "overflow": null,
            "overflow_x": null,
            "overflow_y": null,
            "padding": null,
            "right": null,
            "top": null,
            "visibility": null,
            "width": null
          }
        },
        "b7cca7f95dbb4fac8e4c591044d237b7": {
          "model_module": "@jupyter-widgets/controls",
          "model_name": "ProgressStyleModel",
          "model_module_version": "1.5.0",
          "state": {
            "_model_module": "@jupyter-widgets/controls",
            "_model_module_version": "1.5.0",
            "_model_name": "ProgressStyleModel",
            "_view_count": null,
            "_view_module": "@jupyter-widgets/base",
            "_view_module_version": "1.2.0",
            "_view_name": "StyleView",
            "bar_color": null,
            "description_width": ""
          }
        },
        "8c455a7d189a4ac1b7d3ab804db9e6c6": {
          "model_module": "@jupyter-widgets/base",
          "model_name": "LayoutModel",
          "model_module_version": "1.2.0",
          "state": {
            "_model_module": "@jupyter-widgets/base",
            "_model_module_version": "1.2.0",
            "_model_name": "LayoutModel",
            "_view_count": null,
            "_view_module": "@jupyter-widgets/base",
            "_view_module_version": "1.2.0",
            "_view_name": "LayoutView",
            "align_content": null,
            "align_items": null,
            "align_self": null,
            "border": null,
            "bottom": null,
            "display": null,
            "flex": null,
            "flex_flow": null,
            "grid_area": null,
            "grid_auto_columns": null,
            "grid_auto_flow": null,
            "grid_auto_rows": null,
            "grid_column": null,
            "grid_gap": null,
            "grid_row": null,
            "grid_template_areas": null,
            "grid_template_columns": null,
            "grid_template_rows": null,
            "height": null,
            "justify_content": null,
            "justify_items": null,
            "left": null,
            "margin": null,
            "max_height": null,
            "max_width": null,
            "min_height": null,
            "min_width": null,
            "object_fit": null,
            "object_position": null,
            "order": null,
            "overflow": null,
            "overflow_x": null,
            "overflow_y": null,
            "padding": null,
            "right": null,
            "top": null,
            "visibility": null,
            "width": null
          }
        },
        "2133e43311f449ee8b5281d3b0f68a4e": {
          "model_module": "@jupyter-widgets/controls",
          "model_name": "DescriptionStyleModel",
          "model_module_version": "1.5.0",
          "state": {
            "_model_module": "@jupyter-widgets/controls",
            "_model_module_version": "1.5.0",
            "_model_name": "DescriptionStyleModel",
            "_view_count": null,
            "_view_module": "@jupyter-widgets/base",
            "_view_module_version": "1.2.0",
            "_view_name": "StyleView",
            "description_width": ""
          }
        },
        "9735b9a16b2b4036886333dfff3a144d": {
          "model_module": "@jupyter-widgets/controls",
          "model_name": "HBoxModel",
          "model_module_version": "1.5.0",
          "state": {
            "_dom_classes": [],
            "_model_module": "@jupyter-widgets/controls",
            "_model_module_version": "1.5.0",
            "_model_name": "HBoxModel",
            "_view_count": null,
            "_view_module": "@jupyter-widgets/controls",
            "_view_module_version": "1.5.0",
            "_view_name": "HBoxView",
            "box_style": "",
            "children": [
              "IPY_MODEL_5b248a7d98cc4094a7500cae6a3bed61",
              "IPY_MODEL_75d61c43a76f498392c21317286b9a86",
              "IPY_MODEL_d7663d4a50fb42bf90ec69c2d47861ef"
            ],
            "layout": "IPY_MODEL_ecf758fc68d443e0a07e76786e67fb0f"
          }
        },
        "5b248a7d98cc4094a7500cae6a3bed61": {
          "model_module": "@jupyter-widgets/controls",
          "model_name": "HTMLModel",
          "model_module_version": "1.5.0",
          "state": {
            "_dom_classes": [],
            "_model_module": "@jupyter-widgets/controls",
            "_model_module_version": "1.5.0",
            "_model_name": "HTMLModel",
            "_view_count": null,
            "_view_module": "@jupyter-widgets/controls",
            "_view_module_version": "1.5.0",
            "_view_name": "HTMLView",
            "description": "",
            "description_tooltip": null,
            "layout": "IPY_MODEL_85c35096d6ab443495022b3e2f45228e",
            "placeholder": "​",
            "style": "IPY_MODEL_30a17c3c59714258a4dff79b5224ae19",
            "value": "generation_config.json: 100%"
          }
        },
        "75d61c43a76f498392c21317286b9a86": {
          "model_module": "@jupyter-widgets/controls",
          "model_name": "FloatProgressModel",
          "model_module_version": "1.5.0",
          "state": {
            "_dom_classes": [],
            "_model_module": "@jupyter-widgets/controls",
            "_model_module_version": "1.5.0",
            "_model_name": "FloatProgressModel",
            "_view_count": null,
            "_view_module": "@jupyter-widgets/controls",
            "_view_module_version": "1.5.0",
            "_view_name": "ProgressView",
            "bar_style": "success",
            "description": "",
            "description_tooltip": null,
            "layout": "IPY_MODEL_a0edaa5379d84b51a8be579ef2b1d31f",
            "max": 259,
            "min": 0,
            "orientation": "horizontal",
            "style": "IPY_MODEL_0c14f01bae9d407b918548de9e236fcd",
            "value": 259
          }
        },
        "d7663d4a50fb42bf90ec69c2d47861ef": {
          "model_module": "@jupyter-widgets/controls",
          "model_name": "HTMLModel",
          "model_module_version": "1.5.0",
          "state": {
            "_dom_classes": [],
            "_model_module": "@jupyter-widgets/controls",
            "_model_module_version": "1.5.0",
            "_model_name": "HTMLModel",
            "_view_count": null,
            "_view_module": "@jupyter-widgets/controls",
            "_view_module_version": "1.5.0",
            "_view_name": "HTMLView",
            "description": "",
            "description_tooltip": null,
            "layout": "IPY_MODEL_f5f409fe7b994ad5b5743b6427950980",
            "placeholder": "​",
            "style": "IPY_MODEL_9cb3aaaa3a93417bb990542e5f05dba7",
            "value": " 259/259 [00:00&lt;00:00, 10.1kB/s]"
          }
        },
        "ecf758fc68d443e0a07e76786e67fb0f": {
          "model_module": "@jupyter-widgets/base",
          "model_name": "LayoutModel",
          "model_module_version": "1.2.0",
          "state": {
            "_model_module": "@jupyter-widgets/base",
            "_model_module_version": "1.2.0",
            "_model_name": "LayoutModel",
            "_view_count": null,
            "_view_module": "@jupyter-widgets/base",
            "_view_module_version": "1.2.0",
            "_view_name": "LayoutView",
            "align_content": null,
            "align_items": null,
            "align_self": null,
            "border": null,
            "bottom": null,
            "display": null,
            "flex": null,
            "flex_flow": null,
            "grid_area": null,
            "grid_auto_columns": null,
            "grid_auto_flow": null,
            "grid_auto_rows": null,
            "grid_column": null,
            "grid_gap": null,
            "grid_row": null,
            "grid_template_areas": null,
            "grid_template_columns": null,
            "grid_template_rows": null,
            "height": null,
            "justify_content": null,
            "justify_items": null,
            "left": null,
            "margin": null,
            "max_height": null,
            "max_width": null,
            "min_height": null,
            "min_width": null,
            "object_fit": null,
            "object_position": null,
            "order": null,
            "overflow": null,
            "overflow_x": null,
            "overflow_y": null,
            "padding": null,
            "right": null,
            "top": null,
            "visibility": null,
            "width": null
          }
        },
        "85c35096d6ab443495022b3e2f45228e": {
          "model_module": "@jupyter-widgets/base",
          "model_name": "LayoutModel",
          "model_module_version": "1.2.0",
          "state": {
            "_model_module": "@jupyter-widgets/base",
            "_model_module_version": "1.2.0",
            "_model_name": "LayoutModel",
            "_view_count": null,
            "_view_module": "@jupyter-widgets/base",
            "_view_module_version": "1.2.0",
            "_view_name": "LayoutView",
            "align_content": null,
            "align_items": null,
            "align_self": null,
            "border": null,
            "bottom": null,
            "display": null,
            "flex": null,
            "flex_flow": null,
            "grid_area": null,
            "grid_auto_columns": null,
            "grid_auto_flow": null,
            "grid_auto_rows": null,
            "grid_column": null,
            "grid_gap": null,
            "grid_row": null,
            "grid_template_areas": null,
            "grid_template_columns": null,
            "grid_template_rows": null,
            "height": null,
            "justify_content": null,
            "justify_items": null,
            "left": null,
            "margin": null,
            "max_height": null,
            "max_width": null,
            "min_height": null,
            "min_width": null,
            "object_fit": null,
            "object_position": null,
            "order": null,
            "overflow": null,
            "overflow_x": null,
            "overflow_y": null,
            "padding": null,
            "right": null,
            "top": null,
            "visibility": null,
            "width": null
          }
        },
        "30a17c3c59714258a4dff79b5224ae19": {
          "model_module": "@jupyter-widgets/controls",
          "model_name": "DescriptionStyleModel",
          "model_module_version": "1.5.0",
          "state": {
            "_model_module": "@jupyter-widgets/controls",
            "_model_module_version": "1.5.0",
            "_model_name": "DescriptionStyleModel",
            "_view_count": null,
            "_view_module": "@jupyter-widgets/base",
            "_view_module_version": "1.2.0",
            "_view_name": "StyleView",
            "description_width": ""
          }
        },
        "a0edaa5379d84b51a8be579ef2b1d31f": {
          "model_module": "@jupyter-widgets/base",
          "model_name": "LayoutModel",
          "model_module_version": "1.2.0",
          "state": {
            "_model_module": "@jupyter-widgets/base",
            "_model_module_version": "1.2.0",
            "_model_name": "LayoutModel",
            "_view_count": null,
            "_view_module": "@jupyter-widgets/base",
            "_view_module_version": "1.2.0",
            "_view_name": "LayoutView",
            "align_content": null,
            "align_items": null,
            "align_self": null,
            "border": null,
            "bottom": null,
            "display": null,
            "flex": null,
            "flex_flow": null,
            "grid_area": null,
            "grid_auto_columns": null,
            "grid_auto_flow": null,
            "grid_auto_rows": null,
            "grid_column": null,
            "grid_gap": null,
            "grid_row": null,
            "grid_template_areas": null,
            "grid_template_columns": null,
            "grid_template_rows": null,
            "height": null,
            "justify_content": null,
            "justify_items": null,
            "left": null,
            "margin": null,
            "max_height": null,
            "max_width": null,
            "min_height": null,
            "min_width": null,
            "object_fit": null,
            "object_position": null,
            "order": null,
            "overflow": null,
            "overflow_x": null,
            "overflow_y": null,
            "padding": null,
            "right": null,
            "top": null,
            "visibility": null,
            "width": null
          }
        },
        "0c14f01bae9d407b918548de9e236fcd": {
          "model_module": "@jupyter-widgets/controls",
          "model_name": "ProgressStyleModel",
          "model_module_version": "1.5.0",
          "state": {
            "_model_module": "@jupyter-widgets/controls",
            "_model_module_version": "1.5.0",
            "_model_name": "ProgressStyleModel",
            "_view_count": null,
            "_view_module": "@jupyter-widgets/base",
            "_view_module_version": "1.2.0",
            "_view_name": "StyleView",
            "bar_color": null,
            "description_width": ""
          }
        },
        "f5f409fe7b994ad5b5743b6427950980": {
          "model_module": "@jupyter-widgets/base",
          "model_name": "LayoutModel",
          "model_module_version": "1.2.0",
          "state": {
            "_model_module": "@jupyter-widgets/base",
            "_model_module_version": "1.2.0",
            "_model_name": "LayoutModel",
            "_view_count": null,
            "_view_module": "@jupyter-widgets/base",
            "_view_module_version": "1.2.0",
            "_view_name": "LayoutView",
            "align_content": null,
            "align_items": null,
            "align_self": null,
            "border": null,
            "bottom": null,
            "display": null,
            "flex": null,
            "flex_flow": null,
            "grid_area": null,
            "grid_auto_columns": null,
            "grid_auto_flow": null,
            "grid_auto_rows": null,
            "grid_column": null,
            "grid_gap": null,
            "grid_row": null,
            "grid_template_areas": null,
            "grid_template_columns": null,
            "grid_template_rows": null,
            "height": null,
            "justify_content": null,
            "justify_items": null,
            "left": null,
            "margin": null,
            "max_height": null,
            "max_width": null,
            "min_height": null,
            "min_width": null,
            "object_fit": null,
            "object_position": null,
            "order": null,
            "overflow": null,
            "overflow_x": null,
            "overflow_y": null,
            "padding": null,
            "right": null,
            "top": null,
            "visibility": null,
            "width": null
          }
        },
        "9cb3aaaa3a93417bb990542e5f05dba7": {
          "model_module": "@jupyter-widgets/controls",
          "model_name": "DescriptionStyleModel",
          "model_module_version": "1.5.0",
          "state": {
            "_model_module": "@jupyter-widgets/controls",
            "_model_module_version": "1.5.0",
            "_model_name": "DescriptionStyleModel",
            "_view_count": null,
            "_view_module": "@jupyter-widgets/base",
            "_view_module_version": "1.2.0",
            "_view_name": "StyleView",
            "description_width": ""
          }
        }
      }
    }
  },
  "cells": [
    {
      "cell_type": "markdown",
      "metadata": {
        "id": "view-in-github",
        "colab_type": "text"
      },
      "source": [
        "<a href=\"https://colab.research.google.com/github/meghana0227/YouTube-Video-Summarizer/blob/main/Youtube_Video_Summarizer.ipynb\" target=\"_parent\"><img src=\"https://colab.research.google.com/assets/colab-badge.svg\" alt=\"Open In Colab\"/></a>"
      ]
    },
    {
      "cell_type": "markdown",
      "source": [
        "**Audio Extraction**"
      ],
      "metadata": {
        "id": "DfsKsxOPwmP3"
      }
    },
    {
      "cell_type": "code",
      "execution_count": null,
      "metadata": {
        "colab": {
          "base_uri": "https://localhost:8080/"
        },
        "id": "aNUQHGeUzrS0",
        "outputId": "5dec57ed-c36e-48c8-e8b8-a9e7e77df908"
      },
      "outputs": [
        {
          "output_type": "stream",
          "name": "stdout",
          "text": [
            "Collecting yt-dlp\n",
            "  Downloading yt_dlp-2024.11.4-py3-none-any.whl.metadata (172 kB)\n",
            "\u001b[2K     \u001b[90m━━━━━━━━━━━━━━━━━━━━━━━━━━━━━━━━━━━━━━━━\u001b[0m \u001b[32m172.1/172.1 kB\u001b[0m \u001b[31m5.0 MB/s\u001b[0m eta \u001b[36m0:00:00\u001b[0m\n",
            "\u001b[?25hDownloading yt_dlp-2024.11.4-py3-none-any.whl (3.2 MB)\n",
            "\u001b[2K   \u001b[90m━━━━━━━━━━━━━━━━━━━━━━━━━━━━━━━━━━━━━━━━\u001b[0m \u001b[32m3.2/3.2 MB\u001b[0m \u001b[31m33.7 MB/s\u001b[0m eta \u001b[36m0:00:00\u001b[0m\n",
            "\u001b[?25hInstalling collected packages: yt-dlp\n",
            "Successfully installed yt-dlp-2024.11.4\n"
          ]
        }
      ],
      "source": [
        "pip install yt-dlp"
      ]
    },
    {
      "cell_type": "code",
      "source": [
        "import yt_dlp\n",
        "\n",
        "def download_audio(url, filename='audio'):\n",
        "    ydl_opts = {\n",
        "        'format': 'bestaudio/best',\n",
        "        'outtmpl': filename,\n",
        "        'postprocessors': [{\n",
        "            'key': 'FFmpegExtractAudio',\n",
        "            'preferredcodec': 'mp3',\n",
        "            'preferredquality': '192',\n",
        "        }],\n",
        "    }\n",
        "    with yt_dlp.YoutubeDL(ydl_opts) as ydl:\n",
        "        ydl.download([url])\n",
        "    print(f\"Audio downloaded as {filename}\")\n",
        "\n",
        "\n",
        "download_audio(\"https://www.youtube.com/watch?v=n434ha4QwU0&ab_channel=EnglishSpeeches\")\n"
      ],
      "metadata": {
        "colab": {
          "base_uri": "https://localhost:8080/"
        },
        "id": "Miei7c0C0rZd",
        "outputId": "10a7923e-03db-416f-8e4d-fd5c35b617dd"
      },
      "execution_count": null,
      "outputs": [
        {
          "output_type": "stream",
          "name": "stdout",
          "text": [
            "[youtube] Extracting URL: https://www.youtube.com/watch?v=n434ha4QwU0&ab_channel=EnglishSpeeches\n",
            "[youtube] n434ha4QwU0: Downloading webpage\n",
            "[youtube] n434ha4QwU0: Downloading ios player API JSON\n",
            "[youtube] n434ha4QwU0: Downloading mweb player API JSON\n",
            "[youtube] n434ha4QwU0: Downloading player baafab19\n",
            "[youtube] n434ha4QwU0: Downloading m3u8 information\n",
            "[info] n434ha4QwU0: Downloading 1 format(s): 251\n",
            "[download] Destination: audio\n",
            "[download] 100% of   18.82MiB in 00:00:00 at 24.06MiB/s  \n",
            "[ExtractAudio] Destination: audio.mp3\n",
            "Deleting original file audio (pass -k to keep)\n",
            "Audio downloaded as audio\n"
          ]
        }
      ]
    },
    {
      "cell_type": "markdown",
      "source": [
        "**Audio Transcription using Whisper**"
      ],
      "metadata": {
        "id": "hEoNMy57wwyj"
      }
    },
    {
      "cell_type": "code",
      "source": [
        "pip install git+https://github.com/openai/whisper.git\n"
      ],
      "metadata": {
        "colab": {
          "base_uri": "https://localhost:8080/"
        },
        "id": "IUgUzWYs01Mz",
        "outputId": "314cee31-174d-4b43-a04b-52ed6eaf3343"
      },
      "execution_count": null,
      "outputs": [
        {
          "output_type": "stream",
          "name": "stdout",
          "text": [
            "Collecting git+https://github.com/openai/whisper.git\n",
            "  Cloning https://github.com/openai/whisper.git to /tmp/pip-req-build-mw527p8o\n",
            "  Running command git clone --filter=blob:none --quiet https://github.com/openai/whisper.git /tmp/pip-req-build-mw527p8o\n",
            "  Resolved https://github.com/openai/whisper.git to commit 271445b2f24f00f8175c4fb7ae91876f7451dfc1\n",
            "  Installing build dependencies ... \u001b[?25l\u001b[?25hdone\n",
            "  Getting requirements to build wheel ... \u001b[?25l\u001b[?25hdone\n",
            "  Preparing metadata (pyproject.toml) ... \u001b[?25l\u001b[?25hdone\n",
            "Requirement already satisfied: numba in /usr/local/lib/python3.10/dist-packages (from openai-whisper==20240930) (0.60.0)\n",
            "Requirement already satisfied: numpy in /usr/local/lib/python3.10/dist-packages (from openai-whisper==20240930) (1.26.4)\n",
            "Requirement already satisfied: torch in /usr/local/lib/python3.10/dist-packages (from openai-whisper==20240930) (2.5.0+cu121)\n",
            "Requirement already satisfied: tqdm in /usr/local/lib/python3.10/dist-packages (from openai-whisper==20240930) (4.66.6)\n",
            "Requirement already satisfied: more-itertools in /usr/local/lib/python3.10/dist-packages (from openai-whisper==20240930) (10.5.0)\n",
            "Collecting tiktoken (from openai-whisper==20240930)\n",
            "  Downloading tiktoken-0.8.0-cp310-cp310-manylinux_2_17_x86_64.manylinux2014_x86_64.whl.metadata (6.6 kB)\n",
            "Collecting triton>=2.0.0 (from openai-whisper==20240930)\n",
            "  Downloading triton-3.1.0-cp310-cp310-manylinux_2_17_x86_64.manylinux2014_x86_64.whl.metadata (1.3 kB)\n",
            "Requirement already satisfied: filelock in /usr/local/lib/python3.10/dist-packages (from triton>=2.0.0->openai-whisper==20240930) (3.16.1)\n",
            "Requirement already satisfied: llvmlite<0.44,>=0.43.0dev0 in /usr/local/lib/python3.10/dist-packages (from numba->openai-whisper==20240930) (0.43.0)\n",
            "Requirement already satisfied: regex>=2022.1.18 in /usr/local/lib/python3.10/dist-packages (from tiktoken->openai-whisper==20240930) (2024.9.11)\n",
            "Requirement already satisfied: requests>=2.26.0 in /usr/local/lib/python3.10/dist-packages (from tiktoken->openai-whisper==20240930) (2.32.3)\n",
            "Requirement already satisfied: typing-extensions>=4.8.0 in /usr/local/lib/python3.10/dist-packages (from torch->openai-whisper==20240930) (4.12.2)\n",
            "Requirement already satisfied: networkx in /usr/local/lib/python3.10/dist-packages (from torch->openai-whisper==20240930) (3.4.2)\n",
            "Requirement already satisfied: jinja2 in /usr/local/lib/python3.10/dist-packages (from torch->openai-whisper==20240930) (3.1.4)\n",
            "Requirement already satisfied: fsspec in /usr/local/lib/python3.10/dist-packages (from torch->openai-whisper==20240930) (2024.10.0)\n",
            "Requirement already satisfied: sympy==1.13.1 in /usr/local/lib/python3.10/dist-packages (from torch->openai-whisper==20240930) (1.13.1)\n",
            "Requirement already satisfied: mpmath<1.4,>=1.1.0 in /usr/local/lib/python3.10/dist-packages (from sympy==1.13.1->torch->openai-whisper==20240930) (1.3.0)\n",
            "Requirement already satisfied: charset-normalizer<4,>=2 in /usr/local/lib/python3.10/dist-packages (from requests>=2.26.0->tiktoken->openai-whisper==20240930) (3.4.0)\n",
            "Requirement already satisfied: idna<4,>=2.5 in /usr/local/lib/python3.10/dist-packages (from requests>=2.26.0->tiktoken->openai-whisper==20240930) (3.10)\n",
            "Requirement already satisfied: urllib3<3,>=1.21.1 in /usr/local/lib/python3.10/dist-packages (from requests>=2.26.0->tiktoken->openai-whisper==20240930) (2.2.3)\n",
            "Requirement already satisfied: certifi>=2017.4.17 in /usr/local/lib/python3.10/dist-packages (from requests>=2.26.0->tiktoken->openai-whisper==20240930) (2024.8.30)\n",
            "Requirement already satisfied: MarkupSafe>=2.0 in /usr/local/lib/python3.10/dist-packages (from jinja2->torch->openai-whisper==20240930) (3.0.2)\n",
            "Downloading triton-3.1.0-cp310-cp310-manylinux_2_17_x86_64.manylinux2014_x86_64.whl (209.5 MB)\n",
            "\u001b[2K   \u001b[90m━━━━━━━━━━━━━━━━━━━━━━━━━━━━━━━━━━━━━━━━\u001b[0m \u001b[32m209.5/209.5 MB\u001b[0m \u001b[31m5.9 MB/s\u001b[0m eta \u001b[36m0:00:00\u001b[0m\n",
            "\u001b[?25hDownloading tiktoken-0.8.0-cp310-cp310-manylinux_2_17_x86_64.manylinux2014_x86_64.whl (1.2 MB)\n",
            "\u001b[2K   \u001b[90m━━━━━━━━━━━━━━━━━━━━━━━━━━━━━━━━━━━━━━━━\u001b[0m \u001b[32m1.2/1.2 MB\u001b[0m \u001b[31m66.1 MB/s\u001b[0m eta \u001b[36m0:00:00\u001b[0m\n",
            "\u001b[?25hBuilding wheels for collected packages: openai-whisper\n",
            "  Building wheel for openai-whisper (pyproject.toml) ... \u001b[?25l\u001b[?25hdone\n",
            "  Created wheel for openai-whisper: filename=openai_whisper-20240930-py3-none-any.whl size=803557 sha256=380fb46a06e64bd08fe9caa12fc580d26a49424761681c3d680fab1c5a8a02cb\n",
            "  Stored in directory: /tmp/pip-ephem-wheel-cache-alutl5ox/wheels/8b/6c/d0/622666868c179f156cf595c8b6f06f88bc5d80c4b31dccaa03\n",
            "Successfully built openai-whisper\n",
            "Installing collected packages: triton, tiktoken, openai-whisper\n",
            "Successfully installed openai-whisper-20240930 tiktoken-0.8.0 triton-3.1.0\n"
          ]
        }
      ]
    },
    {
      "cell_type": "code",
      "source": [
        "import whisper\n",
        "\n",
        "def transcribe_audio(filename='audio.mp3'):\n",
        "    model = whisper.load_model(\"base\")\n",
        "    result = model.transcribe(filename)\n",
        "    transcript = result['text']\n",
        "    print(\"Transcription Complete\")\n",
        "    return transcript\n",
        "\n",
        "transcript = transcribe_audio('audio.mp3')\n",
        "print(transcript)\n"
      ],
      "metadata": {
        "colab": {
          "base_uri": "https://localhost:8080/"
        },
        "id": "W9jOAQnG02Nz",
        "outputId": "8f965a17-5f77-48f6-bc9d-2ff83debf13a"
      },
      "execution_count": null,
      "outputs": [
        {
          "output_type": "stream",
          "name": "stderr",
          "text": [
            "100%|███████████████████████████████████████| 139M/139M [00:01<00:00, 83.0MiB/s]\n",
            "/usr/local/lib/python3.10/dist-packages/whisper/__init__.py:150: FutureWarning: You are using `torch.load` with `weights_only=False` (the current default value), which uses the default pickle module implicitly. It is possible to construct malicious pickle data which will execute arbitrary code during unpickling (See https://github.com/pytorch/pytorch/blob/main/SECURITY.md#untrusted-models for more details). In a future release, the default value for `weights_only` will be flipped to `True`. This limits the functions that could be executed during unpickling. Arbitrary objects will no longer be allowed to be loaded via this mode unless they are explicitly allowlisted by the user via `torch.serialization.add_safe_globals`. We recommend you start setting `weights_only=True` for any use case where you don't have full control of the loaded file. Please open an issue on GitHub for any issues related to this experimental feature.\n",
            "  checkpoint = torch.load(fp, map_location=device)\n"
          ]
        },
        {
          "output_type": "stream",
          "name": "stdout",
          "text": [
            "Transcription Complete\n",
            " The future depends on all of us. And whether you like Facebook or not, I think we need to recognize what is at stake and come together to stand for voice and free expression at this critical moment. It's really great to be here at Georgetown with all of you today. Before we get started, I just want to take a moment to acknowledge that today we lost an icon, Elijah Cummings. He was a powerful voice for equality and for social progress and for bringing people together. Back when when I was in college, our country had just gone to war in Iraq. And the mood on our campus was disbelief. A lot of people felt like we were acting without hearing a lot of important perspectives. And the toll on soldiers and their families and our national psyche was severe. Yet most of us felt like we were powerless to do anything about it. And I remember feeling that if more people had a voice to share their experiences, then maybe it could have gone differently. And those early years shaped my belief that giving more people a voice gives power to the powerless and pushes society to get better over time. Now back then I was just building an early version of Facebook for my community, but I got a chance to see my values and beliefs play out at a smaller scale. And when students got to express who they were and what mattered to them, they started more student groups, they organized more businesses and they even challenged some established ways of doing things around campus. And it taught me the lesson that while a lot of the world often focuses on the big events and institutions, the bigger stories that most progress in our lives actually comes from individuals having more of a voice. So since then, I've focused on building services that do two things. Give people a voice and bring people together. And these two simple ideas of voice and inclusion go hand in hand. And we've seen this throughout history, even if it doesn't always seem that way today. And more people being able to share their experiences and perspectives has always been necessary to build a more inclusive society. And it is our commitment to each other that we hold each other's right to express ourselves and be heard above our own desire to always get our way in every debate. That's how we make progress together. But this view is increasingly being challenged. Now, some people believe that giving more people a voice is driving division rather than bringing people together. More people across the spectrum believe that achieving the political outcomes that they think matter is more important than every person having a voice and being heard. And I think that that's dangerous. So today, I want to talk about why. And some of the important choices around free expression that I think that we face going forward. Throughout history, we've seen how being able to use your voice, how people be able to use their voice helps people come together. And we've seen this in the civil rights movement. Frederick Douglass once called a free expression the great moral renovator of our society. He said, slavery cannot tolerate free speech. Civil rights leaders argued time and again that their protests were a protected form of expression. And one noted that nearly all of the cases involving the civil rights movement were decided on first amendment grounds. We've seen this globally too, where the ability to speak freely has been central to the fight for democracy worldwide. The most repressive societies have always restricted speech the most and when people are finally able to speak, they often use their voice to call for change. In this year alone, people have used their voices to end multiple long-running dictatorships in Northern Africa. And we're already starting to hear from people whose voices had been excluded just because they were women or because they believed in democracy. Now our idea of free expression has become much broader over even the last hundred years. Many Americans know about the enlightenment history and how we enshrined the first amendment into our constitution. But few or no, just how dramatically our cultural norms and legal protections have expanded even in recent history. The first Supreme Court case to seriously consider free speech in the first amendment was in 1919, Shank versus the United States. And now back then, the first amendment only applied to the federal government so states could and often did restrict your right to speak. Our ability to call out things that we felt were wrong also used to be a lot more restricted. You know, liable laws used to impose damages, if you said something negative about someone, even if it was true, the standard then shifted, so that way it was okay as long as you could prove that you're a critique was true. And we didn't get the broad free speech protections that we have now until the 1960s when the Supreme Court ruled in opinions like New York Times or Sullivan that you can criticize public figures as long as you're not doing so with actual malice, even if what you're saying is false. So we don't have significantly broader power to call out things that we feel are unjust and share our own personal experiences. And we see movements like Black Lives Matter and MeToo spread in Goviral on Facebook. The hashtag Black Lives Matter was actually mentioned for the first time on Facebook. And this just wouldn't have been possible in the same way before. You know, just a hundred years back, many of the stories that people are sharing now would have been against the law to even write down. And of course, without the internet, they certainly wouldn't have reached so many people. So with Facebook today, more than two billion people now have a greater opportunity to express themselves into help others. Now while it's easy to focus on the big social movements, I think it's important to remember that most progress happens in our individual lives. It's the Air Force moms who start a Facebook group so that their children and other service members who can't come home for the holidays have a place to go. It's the church group that comes together after the hurricane to provide food and to volunteer to help rebuild. It's the small business on the corner that now has access to the same sophisticated tools that only the big guys used to have access to. So now they can get their voice out to reach customers, create more jobs in their town and become a social hub in their community. Progress and social cohesion come from billions of stories like this happening all around the world. People having the power to express themselves at scale is a new kind of force in the world. It is a fifth estate alongside the other power structures in our society. And people no longer have to rely on traditional gatekeepers in politics or media to make their voices heard and that has important consequences. And I understand the concerns that people have about how tech platforms have centralized power. But I actually believe that the much bigger story is how much these platforms have decentralized power by putting it directly into people's hands. It's part of this amazing expansion of voice that we've experienced through law and culture and now technology as well. So giving people a voice and broader inclusion go hand in hand. And the trend has certainly been towards us getting much greater voice over time. But there's also an important counter trend, which is that in times of social tension, our impulse is often to pull back on free expression because we want the progress that comes from free expression, but we don't want the tension. We saw this when Martin Luther King, Jr. wrote his famous letter from a Birmingham jail where he was unconstitutionally jailed for protesting peacefully. And we saw this in the effort to shut down campus protest during the Vietnam War. We saw this way back when America was deeply polarized about its role in World War I and the Supreme Court ruled at the time that the socialist leader Eugene Debs could be imprisoned for making an anti-war speech. In the end, all of these decisions were wrong. Pulling back on free expression wasn't the answer. And in fact, it often ends up hurting the minority views that we seek to protect. Now from where we are today, it seems obvious that of course protest for civil rights or making a speech against a war should be allowed. Yet this desire to suppress this expression was filled deeply by a lot of society at the time. And today, we are in another moment of social tension. We face real issues that are going to take a long time to work through massive economic transitions from globalization and technology. Fallout that remains from the 2008 financial crisis, very polarized reactions to social issues and greater migration, not just here, but across the EU and around the world. And many of our issues flow downstream from these changes. And in the face of these tensions, once again, a popular impulse is to pull back on free expression. We are at another crossroads. We can either continue to stand for free expression, understanding its messiness, but believing that the long journey towards greater progress requires confronting ideas that challenge us. Or we can decide that the cost is simply too great. And I'm here today because I believe that we must continue to stand for free expression. Now, at the same time, I know that free expression has never been absolute. There are some people who argue that internet platforms should allow all expression that is protected under the First Amendment, even though the First Amendment explicitly doesn't apply to companies. Now, I'm proud that our values at Facebook are inspired by the American tradition, which is more supportive of a free expression than anywhere else in the world. But even American tradition recognizes that some speech infringes on other people's rights rules about what you can and can't say often have unintended consequences. When speech restrictions were implemented in the UK in the last century, parliament noted that they were often applied more heavily to citizens from poorer backgrounds because the way they expressed things didn't match the elite Oxbridge style. And I believe that in everything we do, we need to make sure that we are empowering people and not simply reinforcing existing institutions and power structures. So that brings us back to the crossroads that we find ourselves at today. Are we gonna continue fighting to give more people a voice to be heard? Are we going to pull back from free expression? Nicely three major threats ahead. The first is legal. And we're increasingly seeing laws and regulations around the world that undermine free expression in people's human rights. And these local laws are each individually troubling, especially when they shut down speech in places where there isn't democracy or freedom of the press. But it's even worse when countries try to impose their speech restrictions on the rest of the world. So this raises the larger question about the future of our global internet. You know, China is building its own internet focused on very different values. And it's now exporting their vision of the internet to other countries. Now until recently, the internet and almost every country outside of China has been defined by American platforms with strong free expression values. But there's no guarantee that these values will win out. A decade ago, almost all of the major internet platforms were American. Today, six of the top 10 are Chinese. And we're beginning to see this in social media too. While our services like WhatsApp are used by protesters and activists everywhere due to strong encryption and privacy protections on TikTok, the Chinese app growing quickly around the world, mentions of these same protests are censored, even here in the US. Is that the internet that we want? So this is one of the reasons while we don't operate Facebook, Instagram, or our other services in China. I wanted our services in China because I believe in connecting the whole world and I thought, maybe we could help create a more open society. And this is something that I worked hard on for a long time. But we could never come to agreement on what it would take for us to operate there and they never let us in. And now we have more freedom to speak out and stand up for the values that we believe in and fight for free expression around the world. So this question of which nation's values are going to determine what speeches allowed for decades to come really puts into perspective our debates about the content issues of the day. Because while we may disagree on exactly where to draw the line on specific issues, we at least can disagree. That's what free expression is. And the fact that we can even have this conversation means that we're at least debating from some common values. If another nation's platform set the rules or discourse can be defined by a completely different set of values. So to push back on this, it has our policymakers work to define internet policy and regulation to address public safety and the important social issues. I think that we should also be proactive and write policy that helps the values of voice and expression triumph around the world. The second challenge to expression is from the platforms themselves, including us. Because the reality is that we make a lot of decisions that affect people's ability to speak. Now I'm committed to the values that we're discussing today, but we won't always get it right. I understand that people are concerned about how much control we have over how people communicate on our services. And I understand people are concerned about bias and making sure that their ideas are treated fairly. And frankly, I don't think that we should be making so many important decisions about speech on our own either. And we benefit from a more democratic process and clearer rules for the internet and some new institutions. So that's why we're establishing an independent oversight board for people to appeal our content decisions. The board is gonna have the power to make final binding decisions about whether content stays up or comes down across our services. And these are gonna be decisions that our team and I cannot overturn. And we're gonna appoint members to this board who have a diversity of views and backgrounds, but who each hold free expression as a paramount value. And building this institution is important to me personally because I'm not always gonna be here. And I wanna ensure that these values of voice and free expression are enshrined deeply into how this company is governed. And the third challenge to expression is the hardest because it actually comes from our culture itself. We're at a moment of particular tension here and around the world. And we are seeing the impulse to restrict speech and enforce new norms on what people can and cannot say. And increasingly, we're seeing people across the spectrum try to define more speeches dangerous because it may lead to political outcomes that they see as unacceptable. Some hold the view that since the stakes are now so high, they can no longer trust their fellow citizens with the power to communicate and to decide what to believe for themselves. I personally believe that this is more dangerous for democracy over the long term than almost any speech. Democracy depends on the idea that we hold each other's right to express ourselves and be heard above our desire to always get the outcomes that we want. You can't impose tolerance top down. It has to come from people opening up, sharing experiences, and developing a shared story for our society that we all feel like we're a part of. That's how we make progress. How did we turn the tide? Well, someone once told me that our founding fathers thought that free expression was like air. You don't miss it until it's gone. When people don't feel like they can express themselves, they lose faith in democracy and are more likely to support populist parties that prioritize specific policy outcomes over the health of our democratic and civic norms. I'm a little more optimistic. I don't think we need to lose our freedom of expression to realize how important it is. I think that people get it and understand and appreciate the voice that they have now. And at some fundamental level, I think that most people believe in their fellow people too. And as long as our governments respect people's right to express themselves, as long as our platforms live up to their responsibilities to support expression and prevent harm, and as long as we all commit to being open and making space for more perspectives, I think we're going to make progress. It's going to take time, but I think that we're going to work through this moment. We overcame deep polarization after World War I and intense political violence in the 1960s. Progress isn't linear. Sometimes we have to take two steps forward and one step back. But if we can't agree to let each other talk about the issues, then we can't even take the first step. So even when it's hard, this is how we build a shared understanding. So yes, we have big disagreements. Maybe more now than at any time in recent history. But part of this is because we're getting our issues out on the table. Issues that for a long time weren't talked about enough. More people from more parts of our society now have a voice than ever before, and it's going to take time to hear all these voices and knit them together into a coherent narrative. Sometimes we hope for a singular event to come along and resolve these conflicts, but that's never been how it works. We focus on the major institutions, our government, the large companies, but the bigger story has always been regular people using their voice to take billions of individual steps forward to make all of our lives and our communities better. The future depends on all of us. And whether you like Facebook or not, I think we need to recognize what is at stake and come together to stand for voice and free expression at this critical moment. I believe in giving people a voice, because at the end of the day, I believe in people. And as long as enough of us keep fighting for this, I believe that more people's voices will eventually help us work through these issues together and write a new chapter in our history where from all of our individual voices and perspectives, we can bring the world closer together. Thank you. Thank you. Thank you.\n"
          ]
        }
      ]
    },
    {
      "cell_type": "markdown",
      "source": [
        "**Summarization using PEGASUS**"
      ],
      "metadata": {
        "id": "BGbp3uz8w5gg"
      }
    },
    {
      "cell_type": "code",
      "source": [
        "pip install transformers\n"
      ],
      "metadata": {
        "colab": {
          "base_uri": "https://localhost:8080/"
        },
        "id": "ZNAihntf03Dr",
        "outputId": "d6325c24-bf65-4287-818d-f6eb464252ef"
      },
      "execution_count": null,
      "outputs": [
        {
          "output_type": "stream",
          "name": "stdout",
          "text": [
            "Requirement already satisfied: transformers in /usr/local/lib/python3.10/dist-packages (4.44.2)\n",
            "Requirement already satisfied: filelock in /usr/local/lib/python3.10/dist-packages (from transformers) (3.16.1)\n",
            "Requirement already satisfied: huggingface-hub<1.0,>=0.23.2 in /usr/local/lib/python3.10/dist-packages (from transformers) (0.24.7)\n",
            "Requirement already satisfied: numpy>=1.17 in /usr/local/lib/python3.10/dist-packages (from transformers) (1.26.4)\n",
            "Requirement already satisfied: packaging>=20.0 in /usr/local/lib/python3.10/dist-packages (from transformers) (24.1)\n",
            "Requirement already satisfied: pyyaml>=5.1 in /usr/local/lib/python3.10/dist-packages (from transformers) (6.0.2)\n",
            "Requirement already satisfied: regex!=2019.12.17 in /usr/local/lib/python3.10/dist-packages (from transformers) (2024.9.11)\n",
            "Requirement already satisfied: requests in /usr/local/lib/python3.10/dist-packages (from transformers) (2.32.3)\n",
            "Requirement already satisfied: safetensors>=0.4.1 in /usr/local/lib/python3.10/dist-packages (from transformers) (0.4.5)\n",
            "Requirement already satisfied: tokenizers<0.20,>=0.19 in /usr/local/lib/python3.10/dist-packages (from transformers) (0.19.1)\n",
            "Requirement already satisfied: tqdm>=4.27 in /usr/local/lib/python3.10/dist-packages (from transformers) (4.66.6)\n",
            "Requirement already satisfied: fsspec>=2023.5.0 in /usr/local/lib/python3.10/dist-packages (from huggingface-hub<1.0,>=0.23.2->transformers) (2024.10.0)\n",
            "Requirement already satisfied: typing-extensions>=3.7.4.3 in /usr/local/lib/python3.10/dist-packages (from huggingface-hub<1.0,>=0.23.2->transformers) (4.12.2)\n",
            "Requirement already satisfied: charset-normalizer<4,>=2 in /usr/local/lib/python3.10/dist-packages (from requests->transformers) (3.4.0)\n",
            "Requirement already satisfied: idna<4,>=2.5 in /usr/local/lib/python3.10/dist-packages (from requests->transformers) (3.10)\n",
            "Requirement already satisfied: urllib3<3,>=1.21.1 in /usr/local/lib/python3.10/dist-packages (from requests->transformers) (2.2.3)\n",
            "Requirement already satisfied: certifi>=2017.4.17 in /usr/local/lib/python3.10/dist-packages (from requests->transformers) (2024.8.30)\n"
          ]
        }
      ]
    },
    {
      "cell_type": "code",
      "source": [
        "from transformers import AutoModelForSeq2SeqLM, AutoTokenizer\n",
        "import torch\n",
        "\n",
        "\n",
        "model_name = \"google/pegasus-xsum\"\n",
        "tokenizer = AutoTokenizer.from_pretrained(model_name)\n",
        "model = AutoModelForSeq2SeqLM.from_pretrained(model_name)\n",
        "\n",
        "def chunk_text(text, max_tokens=512):\n",
        "    \"\"\"Splits text into chunks that fit within the model's token limit.\"\"\"\n",
        "    words = text.split()\n",
        "    chunks = []\n",
        "    for i in range(0, len(words), max_tokens):\n",
        "        chunk = \" \".join(words[i:i + max_tokens])\n",
        "        chunks.append(chunk)\n",
        "    return chunks\n",
        "\n",
        "def summarize_long_text(text, max_length=150, min_length=50):\n",
        "    chunks = chunk_text(text, max_tokens=tokenizer.model_max_length - 10)\n",
        "    chunk_summaries = []\n",
        "\n",
        "    for chunk in chunks:\n",
        "        inputs = tokenizer(chunk, return_tensors=\"pt\", truncation=True)\n",
        "        with torch.no_grad():\n",
        "            summary_ids = model.generate(inputs['input_ids'], max_length=max_length, min_length=min_length, no_repeat_ngram_size=2)\n",
        "        summary = tokenizer.decode(summary_ids[0], skip_special_tokens=True)\n",
        "        chunk_summaries.append(summary)\n",
        "\n",
        "\n",
        "    combined_summary = \" \".join(chunk_summaries)\n",
        "    return combined_summary\n",
        "\n",
        "summary = summarize_long_text(transcript)\n",
        "print(\"Final Summary:\", summary)\n"
      ],
      "metadata": {
        "colab": {
          "base_uri": "https://localhost:8080/",
          "height": 188,
          "referenced_widgets": [
            "7d201c8c31c14800843d33532b06e941",
            "5f144b56cc77444aa85835815bdf73aa",
            "d8491b49cb81463d8d7ead0a23a5db85",
            "06542e9d63594dcb8a1ceeecd85ba9e6",
            "5b4b26f6a90546d484d97f961945820c",
            "4322e9727bfc472db1e1360f98906315",
            "3d0d69f577cc4b3d818a2d092e5fc9f6",
            "a7a32603775f41aea73fcad0cab5f236",
            "b7cca7f95dbb4fac8e4c591044d237b7",
            "8c455a7d189a4ac1b7d3ab804db9e6c6",
            "2133e43311f449ee8b5281d3b0f68a4e",
            "9735b9a16b2b4036886333dfff3a144d",
            "5b248a7d98cc4094a7500cae6a3bed61",
            "75d61c43a76f498392c21317286b9a86",
            "d7663d4a50fb42bf90ec69c2d47861ef",
            "ecf758fc68d443e0a07e76786e67fb0f",
            "85c35096d6ab443495022b3e2f45228e",
            "30a17c3c59714258a4dff79b5224ae19",
            "a0edaa5379d84b51a8be579ef2b1d31f",
            "0c14f01bae9d407b918548de9e236fcd",
            "f5f409fe7b994ad5b5743b6427950980",
            "9cb3aaaa3a93417bb990542e5f05dba7"
          ]
        },
        "id": "3ZboRjVG3yCy",
        "outputId": "b60a602c-440b-4a28-f692-fa5eee95a83d"
      },
      "execution_count": null,
      "outputs": [
        {
          "output_type": "stream",
          "name": "stderr",
          "text": [
            "/usr/local/lib/python3.10/dist-packages/transformers/tokenization_utils_base.py:1601: FutureWarning: `clean_up_tokenization_spaces` was not set. It will be set to `True` by default. This behavior will be depracted in transformers v4.45, and will be then set to `False` by default. For more details check this issue: https://github.com/huggingface/transformers/issues/31884\n",
            "  warnings.warn(\n"
          ]
        },
        {
          "output_type": "display_data",
          "data": {
            "text/plain": [
              "pytorch_model.bin:  38%|###7      | 860M/2.28G [00:00<?, ?B/s]"
            ],
            "application/vnd.jupyter.widget-view+json": {
              "version_major": 2,
              "version_minor": 0,
              "model_id": "7d201c8c31c14800843d33532b06e941"
            }
          },
          "metadata": {}
        },
        {
          "output_type": "stream",
          "name": "stderr",
          "text": [
            "Some weights of PegasusForConditionalGeneration were not initialized from the model checkpoint at google/pegasus-xsum and are newly initialized: ['model.decoder.embed_positions.weight', 'model.encoder.embed_positions.weight']\n",
            "You should probably TRAIN this model on a down-stream task to be able to use it for predictions and inference.\n"
          ]
        },
        {
          "output_type": "display_data",
          "data": {
            "text/plain": [
              "generation_config.json:   0%|          | 0.00/259 [00:00<?, ?B/s]"
            ],
            "application/vnd.jupyter.widget-view+json": {
              "version_major": 2,
              "version_minor": 0,
              "model_id": "9735b9a16b2b4036886333dfff3a144d"
            }
          },
          "metadata": {}
        },
        {
          "output_type": "stream",
          "name": "stdout",
          "text": [
            "Final Summary: Here is the full text of Mark Zuckerberg's speech at Georgetown University on Wednesday, in which he called for more people to have a \"voice\" and \"bring people together\": Here in America, we're at a moment of great tension. In our series of letters from African-American journalists, filmmaker and columnist Richard Pérez-Pea looks at how free speech has been central to the fight for democracy around the world and how it's become much broader in the United States. In our series of letters from African-American journalists, Supreme Court Justice Ruth Bader Ginsburg reflects on the importance of free expression and the role it plays in our society. But there's also an important counter trend, which is that in times of social tension, our impulse is often to pull back on free Expression because we want the progress that comes from freeExpression, but we don't Want the Tension. Here is the full text of Mark Zuckerberg's speech at the World Economic Forum in Davos, Switzerland, on Tuesday: Here in the United States, we're in a time of profound political and economic change. And I'm here today because I believe that we must continue to stand for free expression. Here is the full text of Facebook CEO Mark Zuckerberg's speech at the World Economic Forum in Davos, Switzerland, in which he outlined his vision for the future of the internet: The first challenge to expression is from countries like China and Russia. In our series of letters from business leaders, Facebook's Sheryl Sandberg explains why free expression is so important to her company and why she believes it is more dangerous for democracy than almost any speech. When people don't feel like they can express themselves, they lose faith in democracy and are more likely to support populist parties that prioritize specific policy outcomes over the health of our democratic and civic norms. Here is the full text of Facebook founder Mark Zuckerberg's speech on Wednesday, in which he called on people to \"stand for voice and free expression\" at a \"critical moment\" in our history, as he defended the social network against criticism over its handling of the Cambridge Analytica scandal.\n"
          ]
        }
      ]
    }
  ]
}